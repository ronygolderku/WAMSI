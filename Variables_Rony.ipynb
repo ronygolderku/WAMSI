{
 "cells": [
  {
   "cell_type": "markdown",
   "id": "a29c1f38-788b-4310-b127-0799d98631f1",
   "metadata": {},
   "source": [
    "<div style=\"text-align: center;\">\r\n",
    "\r\n",
    "## Variables for Ecosystem Modelling\r\n",
    "\r\n",
    "**Presenter:** Md Rony Golder, Data Analyst  \r\n",
    "**Affiliation:** Western Australian Marine Science Institution (WAMSI)  \r\n",
    "**WAMSI Website:** [https://wamsi.org.au/](https://wamsi.org.au/)  \r\n",
    "**Personal Website:** [https://ronygolderku.netlify.app/](https://ronygolderku.netlify.app/)\r",
    "\r\n",
    "</div>\r\n"
   ]
  },
  {
   "cell_type": "markdown",
   "id": "1bd31327-5279-4454-9e50-90d9537ddaf9",
   "metadata": {},
   "source": [
    "# Satellite Variables\n",
    "\n",
    "In this section, we list various satellite data variables along with relevant details:"
   ]
  },
  {
   "cell_type": "markdown",
   "id": "54b3efdf-eab3-4e7f-ac0a-ef40030c34e5",
   "metadata": {},
   "source": [
    "| Serial No | Variable Name                                      | Unit              | Category                    | Source                                                |\n",
    "|-----------|----------------------------------------------------|-------------------|-----------------------------|-------------------------------------------------------|\n",
    "| 1         | Chlorophyll-a concentration (CHL)                 | mg m⁻³            | Water quality (Nutrient)    | [CMEMS](https://marine.copernicus.eu/product/OCEANCOLOUR_GLO_BGC_L4_MY_009_104/services) |\n",
    "| 2         | Micro-phytoplankton                                | mg m⁻³            | Water quality (Nutrient)    |                                                         |\n",
    "| 3         | Nano-phytoplankton                                 | mg m⁻³            | Water quality (Nutrient)    |                                                         |\n",
    "| 4         | Pico-phytoplankton                                 | mg m⁻³            | Water quality (Nutrient)    |                                                         |\n",
    "| 5         | Diatoms                                            | mg m⁻³            | Ecology (Planktonic)        |                                                         |\n",
    "| 6         | Dinophytes                                         | mg m⁻³            | Ecology (Planktonic)        |                                                         |\n",
    "| 7         | Green Algae                                        | mg m⁻³            | Ecology (Planktonic)        |                                                         |\n",
    "| 8         | Haptophytes                                        | mg m⁻³            | Ecology (Planktonic)        |                                                         |\n",
    "| 9         | Prokaryotes                                        | mg m⁻³            | Ecology (Planktonic)        |                                                         |\n",
    "| 10        | Prochlorococcus                                    | mg m⁻³            | Ecology (Planktonic)        |                                                         |\n",
    "| 11        | Particulate back-scattering coefficient            | %                 | Light                       |                                                         |\n",
    "| 12        | Backwards scattering coefficient                   | m⁻¹               | Light                       |                                                         |\n",
    "| 13        | Absorption coefficient due to DOM (CDOM)           | m⁻¹               | Light                       |                                                         |\n",
    "| 14        | Primary productivity of biomass (C)                | mg/m²/day         | Water quality (Nutrient)    |                                                         |\n",
    "| 15        | Remote sensing reflectance at 412 nm               | Sr⁻¹              | Light                       |                                                         |\n",
    "| 16        | Remote sensing reflectance at 443 nm               | Sr⁻¹              | Light                       |                                                         |\n",
    "| 17        | Remote sensing reflectance at 490 nm               | Sr⁻¹              | Light                       |                                                         |\n",
    "| 18        | Remote sensing reflectance at 555 nm               | Sr⁻¹              | Light                       |                                                         |\n",
    "| 19        | Remote sensing reflectance at 670 nm               | Sr⁻¹              | Light                       |                                                         |\n",
    "| 20        | Volume Attenuation coefficient (KD490)             | m⁻¹               | Light                       |                                                         |\n",
    "| 21        | Secchi disk depth (ZSD)                           | m                 | Light                       |                                                         |\n",
    "| 22        | Suspended Particle Matter (SPM)                    | g/m⁻³             | Water quality (Nutrient)    |                                                         |\n",
    "| 23        | Water surface temperature                          | °C                | Water quality (PhysChm)     | [NASA](https://oceancolor.gsfc.nasa.gov/l3/)                                              |\n",
    "| 24        | Particulate Organic carbon (POC)                   | mg/m³             | Water quality (Nutrient)    |                                                         |\n",
    "| 25        | Particulate Inorganic carbon (PIC)                 | mg/m³             | Water quality (Nutrient)    |                                                         |\n",
    "| 26        | Diffuse attenuation coefficient (PAR)              | m⁻¹               | Light                       |                                                         |\n",
    "| 27        | Heated layer depth, ZSL                            | m                 | Light                       | [ACRI](https://hermes.acri.fr/index.php?class=archive)                                                 |\n",
    "| 28        | Euphotic layer depth, ZEU                          | m                 | Light                       |                                                         |\n",
    "| 29        | Air Density                                        | kg/m³             | Meteorology                 | [CMEMS](https://data.marine.copernicus.eu/product/WIND_GLO_PHY_L4_NRT_012_004/description) |\n",
    "| 30        | Wind Speed                                         | m/s               | Meteorology                 |                                                         |\n",
    "| 31        | Wind-to Direction                                  | degree            | Meteorology                 |                                                         |\n",
    "| 32        | Zonal (Eastward) Wind Velocity                     | m/s               | Meteorology                 |                                                         |\n",
    "| 33        | Meridional (Northward) Wind Velocity               | m/s               | Meteorology                 |                                                         |\n",
    "| 34        | Wind Divergence                                    | 1/s               | Meteorology                 |                                                         |\n",
    "| 35        | Wind Curl                                          | 1/s               | Meteorology                 |                                                         |\n",
    "| 36        | Wind Stress Magnitude                              | N/m²              | Meteorology                 |                                                         |\n",
    "| 37        | Sea surface height (sla)                           | m                 | Hydrodynamics               | [CMEMS](https://data.marine.copernicus.eu/product/SEALEVEL_GLO_PHY_L4_MY_008_047/description) |\n",
    "| 38        | Sea surface height above geoid, adt                | m                 | Hydrodynamics               |                                                         |\n",
    "| 39        | Surface geostrophic eastward sea water velocity, ugos | m/s           | Hydrodynamics               |                                                         |\n",
    "| 40        | Surface geostrophic northward sea water velocity, vgos | m/s          | Hydrodynamics               |                                                         |\n",
    "| 41        | Surface geostrophic northward sea water velocity assuming sea level for geoid, vgosa | m/s | Hydrodynamics |                                                 |\n",
    "| 42        | Sea surface height above sea level, noise          | m                 | Hydrodynamics               | [CMEMS](https://data.marine.copernicus.eu/product/SEALEVEL_GLO_PHY_NOISE_L4_STATIC_008_033/services) |"
   ]
  },
  {
   "cell_type": "markdown",
   "id": "79720f87-43b8-45d5-97df-a3fd91d8480e",
   "metadata": {},
   "source": [
    "# Variables from the Model Output\n",
    "\n",
    "In this section, we list various  variables from model output along with relevant details:"
   ]
  },
  {
   "cell_type": "markdown",
   "id": "edb4f493-0a70-4427-8605-3a959196e128",
   "metadata": {},
   "source": [
    "| Serial No | Variable No                                   | Unit       | Category                | Source   |\n",
    "|-----------|----------------------------------------------|------------|-------------------------|----------|\n",
    "| 1         | Total alkalinity                             | mol/m³      | Water Quality (Nutrient)| [CMEMS](https://data.marine.copernicus.eu/product/GLOBAL_ANALYSISFORECAST_BGC_001_028/description)    |\n",
    "| 2         | Concentration of chlorophyll                 | mg/m³      | Water Quality (Nutrient)|          |\n",
    "| 3         | Concentration of dissolved inorganic carbon  | mol/m³     | Water Quality (Nutrient)|          |\n",
    "| 4         | Concentration of dissolved iron               | mmol/m³    | Water Quality (Nutrient)|          |\n",
    "| 5         | Concentration of nitrate                     | mmol/m³    | Water Quality (Nutrient)|          |\n",
    "| 6         | Net primary production of biomass            | mg/m³/day  | Water Quality (Nutrient)|          |\n",
    "| 7         | Concentration of dissolved molecular oxygen   | mmol/m³    | Water Quality (Nutrient)|          |\n",
    "| 8         | pH                                           |            | Water Quality (PhysChm)  |          |\n",
    "| 9         | Concentration of phytoplankton               | mmol/m³    | Water Quality (Nutrient)|          |\n",
    "| 10        | Concentration of phosphate                   | mmol/m³    | Water Quality (Nutrient)|          |\n",
    "| 11        | Concentration of silicate                    | mmol/m³    | Water Quality (Nutrient)|          |\n",
    "| 12        | Surface partial pressure of carbon dioxide   | Pa         | Water Quality (PhysChm)  |          |\n",
    "| 13        | Light attenuation coefficient, KD            | m⁻¹        | Light                   |          |\n",
    "| 14        | Eastward sea water velocity (uo)             | m/s        | Hydrodynamics           | [CMEMS](https://data.marine.copernicus.eu/product/GLOBAL_ANALYSISFORECAST_PHY_001_024/description)    |\n",
    "| 15        | Northward sea water velocity (vo)            | m/s        | Hydrodynamics           |          |\n",
    "| 16        | Sea water salinity (so)                     | 10⁻³        | Water Quality (PhysChm)  |          |\n",
    "| 17        | Sea water potential temperature (thetao)     | °C         | Water Quality (PhysChm)  |          |\n",
    "| 18        | Upward sea water velocity, wo                | m/s        | Hydrodynamics           |          |\n",
    "| 20        | Ocean mixed layer thickness, sigma theta, mlotst | m     | Hydrodynamics           |          |\n",
    "| 21        | Sea water pressure at sea floor, pbo         | dbar       | Hydrodynamics           |          |\n",
    "| 22        | Surface sea water x velocity due to tide, utide | m/s    | Hydrodynamics           |          |\n",
    "| 23        | Surface sea water y velocity due to tide , vtide | m/s   | Hydrodynamics           |          |\n",
    "| 24        | Surface sea water x velocity, utotal         | m/s        | Hydrodynamics           |          |\n",
    "| 25        | Surface sea water y velocity, vtotal         | m/s        | Hydrodynamics           |          |\n",
    "| 26        | Sea floor depth below geoid, deptho          | m          | Hydrodynamics           |          |\n",
    "| 27        | Sea water potential temperature vertical mean over pelagic layer, T | °C | Ecology (Pelagic)   | [CMEMS](https://data.marine.copernicus.eu/product/GLOBAL_MULTIYEAR_BGC_001_033/description)    |\n",
    "| 28        | Eastward sea water velocity vertical mean over pelagic layer, U | m/s | Ecology (Pelagic)   |          |\n",
    "| 29        | Northward sea water velocity vertical mean over pelagic layer, V | m/s | Ecology (Pelagic)   |          |\n",
    "| 30        | Sea water pelagic layer bottom depth, pelagic_layer_depth | m | Ecology (Pelagic)   |          |\n",
    "| 31        | Epipelagic micronekton                      | g/m²       | Ecology (Pelagic)       |          |\n",
    "| 32        | Highly migrant lower mesopelagic micronekton | g/m²    | Ecology (Pelagic)       |          |\n",
    "| 33        | Lower mesopelagic micronekton                | g/m²       | Ecology (Pelagic)       |          |\n",
    "| 34        | Migrant lower mesopelagic micronekton       | g/m²       | Ecology (Pelagic)       |          |\n",
    "| 35        | Migrant upper mesopelagic micronekton       | g/m²       | Ecology (Pelagic)       |          |\n",
    "| 36        | Upper mesopelagic micronekton                | g/m²       | Ecology (Pelagic)       |          |\n",
    "| 37        | Net primary productivity of biomass         | mg/m²/day   | Water Quality (Nutrient)|          |\n",
    "| 38        | Euphotic zone depth                          | m          | Light                   |          |\n",
    "| 39        | Zooplankton                                 | g/m²       | Water Quality (Nutrient)|          |\n",
    "| 40        | Sea surface wave maximum height, VCMX        | m          | Hydrodynamics           | [CMEMS](https://data.marine.copernicus.eu/product/GLOBAL_ANALYSISFORECAST_WAV_001_027/description)    |\n",
    "| 41        | Sea surface wave significant height, VHM0   | m          | Hydrodynamics           |          |\n",
    "| 42        | Sea surface primary swell wave significant height, VHM0_SW1 | m | Hydrodynamics     |          |\n",
    "| 43        | Sea surface secondary swell wave significant height, VHM0_SW2 | m | Hydrodynamics     |          |\n",
    "| 44        | Sea surface wind wave significant height, VHM0_WW | m       | Hydrodynamics           |          |\n",
    "| 45        | Sea surface wave from direction, VMDR        | °          | Hydrodynamics           |          |\n",
    "| 46        | Sea surface primary swell wave from direction, VMDR_SW1 | ° | Hydrodynamics       |          |\n",
    "| 47        | Sea surface secondary swell wave from direction, VMDR_SW2 | ° | Hydrodynamics     |          |\n",
    "| 48        | Sea surface wind wave from direction, VMDR_WW | °         | Hydrodynamics           |          |\n",
    "| 49        | Sea surface wave from direction at variance spectral density maximum, VPED | ° | Hydrodynamics |          |\n",
    "| 50        | Sea surface wave stokes drift x velocity, VSDX | m/s   | Hydrodynamics           |          |\n",
    "| 51        | Sea surface wave stokes drift y velocity, VSDY | m/s   | Hydrodynamics           |          |\n",
    "| 52        | Sea surface primary swell wave mean period, VTM01_SW1 | s | Hydrodynamics        |          |\n",
    "| 53        | Sea surface secondary swell wave mean period, VTM01_SW2 | s | Hydrodynamics      |          |\n",
    "| 54        | Sea surface wind wave mean period, VTM01_WW  | s         | Hydrodynamics           |          |\n",
    "| 55        | Sea surface wave mean period from variance spectral density second frequency moment, VTM02 | s | Hydrodynamics | |\n",
    "| 56        | Sea surface wave mean period from variance spectral density inverse frequency moment, VTM10 | s | Hydrodynamics | |\n",
    "| 57        | Sea surface wave period at variance spectral density maximum, VTPK | s | Hydrodynamics |          |\n"
   ]
  },
  {
   "cell_type": "markdown",
   "id": "0fd22059-17fa-407c-9f07-29a9b00c0e01",
   "metadata": {},
   "source": [
    "# How to Downlaod/acess the data variables"
   ]
  },
  {
   "cell_type": "markdown",
   "id": "ab48c5c3-79a1-4402-8a03-d5ad47a67faa",
   "metadata": {},
   "source": [
    "In the variable list under the column of source, I have used the variable from three websites, for example, `CMEMS, NASA, ACRI`. \n",
    "\n",
    "We will visit each website to understand how to download the data. For sites like CMEMS, NASA, ACRI, you have to register yourself, meaning you have to open an account to download the data from the site. Here, we will use the command-line tools to access the data from each site. \n",
    "\n",
    "First, I will demonstrate how to download Copernicus data. We will use the Copernicus Marine Toolbox. Although we can download the dataset manually by visiting their site, it covers only up to 1024 MB. When you have to download more than that, you have to use the command-line tool or Python interface. But we will show here the command-line tools for our demonstration."
   ]
  },
  {
   "cell_type": "markdown",
   "id": "d31e7504-3c1d-4277-a726-2362ae868fb2",
   "metadata": {},
   "source": [
    "## Accessing  CMEMS variables\n",
    "\n",
    "First, I will demonstrate how to access oceanographic data from CMEMS using the Copernicus Marine Toolbox. CMEMS provides a rich source of marine environmental data, and we'll explore how to download data using command-line tools.\n",
    "\n",
    "### Prerequisites\n",
    "\n",
    "Before you begin, make sure you have the following installed:\n",
    "\n",
    "- Register yourself to [CMEMS](https://data.marine.copernicus.eu/register?redirect=/products)\n",
    "- Copernicus Marine Toolbox installation\n",
    "\n",
    "### Install Copernicus Marine Toolbox \n",
    "\n",
    "Let's see how to create an environment containing the Copernicus Marine Toolbox via Mamba. You can replace Mamba with Conda if you haven't installed it yet.\n",
    "\n",
    "### Step 1. \n",
    "\n",
    "Create, using your favorite text editor, the file `copernicusmarine_env.yml` that describes the local environment and contains:\n",
    "\n",
    "```yaml\n",
    "name: cmt_1.0\n",
    "channels:\n",
    "  - conda-forge\n",
    "dependencies:\n",
    "  - pip\n",
    "  - pip:\n",
    "    - copernicusmarine>=1.0,<=2.0\n",
    "  - python>=3.9,<3.12"
   ]
  },
  {
   "cell_type": "markdown",
   "id": "72c9bd18-7da4-4df8-8df0-2546c50b7442",
   "metadata": {},
   "source": [
    "### Step 2: Open the terminal\n",
    "\n",
    "Open the Miniforge Prompt (or your favorite terminal) and move to the directory where you have saved the `.yml` file.\n",
    "\n",
    "```bash\n",
    "cd path/to/directory\n",
    "```"
   ]
  },
  {
   "cell_type": "markdown",
   "id": "62bc0680-568c-4582-bd78-9fa2a25edf64",
   "metadata": {},
   "source": [
    "### Step 3: Create the environment\n",
    "\n",
    "Run the following command to create the environment `cmt_1.0`:\n",
    "\n",
    "```bash\n",
    "mamba env create -f copernicusmarine_env.yml"
   ]
  },
  {
   "cell_type": "markdown",
   "id": "eab90bb4-714c-430d-8662-8aa4610d16de",
   "metadata": {},
   "source": [
    "### Step 4: Activate the new environment\n",
    "\n",
    "Activate the new `cmt_1.0` environment using the following command:\n",
    "\n",
    "```bash\n",
    "mamba activate cmt_1.0\n"
   ]
  },
  {
   "cell_type": "markdown",
   "id": "536458c9-13d0-4e3c-833a-9857fb0656a6",
   "metadata": {},
   "source": [
    "### Step 5: Log in (for the first time), then it will be automatically configured.\n",
    "\n",
    "```bash\n",
    "copernicusmarine login\n",
    "```"
   ]
  },
  {
   "cell_type": "markdown",
   "id": "e66195ec-0b2b-4574-8006-cc18f71017b6",
   "metadata": {},
   "source": [
    "This command will prompt you to provide your username and password. After successful login, the configuration will be automatically set up. By default, the configuration file is saved in your home directory, but you can customize the destination by using the `--configuration-file-directory` option."
   ]
  },
  {
   "cell_type": "markdown",
   "id": "1248fa3c-ac1e-4db3-87f4-88b72e43f991",
   "metadata": {},
   "source": [
    "### Download the Data (Subset)\n",
    "\n",
    "To download a subset of the data, use the following `copernicusmarine subset` command:\n",
    "\n",
    "```bash\n",
    "copernicusmarine subset\n",
    "   --dataset-id cmems_obs-oc_glo_bgc-plankton_my_l4-multi-4km_P1M\n",
    "   --force-dataset-version 202311\n",
    "   --variable CHL\n",
    "   --variable DIATO\n",
    "   --variable DINO\n",
    "   --variable GREEN\n",
    "   --variable HAPTO\n",
    "   --variable MICRO\n",
    "   --variable NANO\n",
    "   --variable PICO\n",
    "   --variable PROCHLO\n",
    "   --variable PROKAR\n",
    "   --start-datetime 1998-01-01T00:00:00\n",
    "   --end-datetime 2024-01-01T00:00:00\n",
    "   --minimum-longitude 109.48920891362069\n",
    "   --maximum-longitude 116.74702757932604\n",
    "   --minimum-latitude -35.97509160510578\n",
    "   --maximum-latitude -26.44373938146864"
   ]
  },
  {
   "cell_type": "markdown",
   "id": "bffebcd8-236c-4ccf-9595-30f9a4524b01",
   "metadata": {},
   "source": [
    "## Accessing NASA variables"
   ]
  },
  {
   "cell_type": "markdown",
   "id": "a673f622-ebe9-4058-ad77-ca47082e78c9",
   "metadata": {},
   "source": [
    "### Create a .netrc file\n",
    "\n",
    "The recommended method is to configure your username and password for authentication using a `.netrc` file. If you experience errors or redirects when using a cookie file, delete any existing cookie files and generate a new one for your current session.\n",
    "\n",
    "You can use the following commands:\n",
    "\n",
    "```bash\n",
    "echo \"machine urs.earthdata.nasa.gov login USERNAME password PASSWD\" > ~/.netrc ; > ~/.urs_cookies\n",
    "chmod  0600 ~/.netrcw."
   ]
  },
  {
   "cell_type": "markdown",
   "id": "e788f48d-493c-455c-8128-13cbe3f068cf",
   "metadata": {},
   "source": [
    "Replace USERNAME and PASSWD with your Earthdata Login credentials.\n",
    "\n",
    "To sign up for Earthdata, visit https://urs.earthdata.nasa.gov/users/new"
   ]
  },
  {
   "cell_type": "markdown",
   "id": "ea666103-50a0-4fbc-89c7-8bab12faca45",
   "metadata": {},
   "source": [
    "### Retrieve a Single File Using Cookies to Pass Credentials\n",
    "\n",
    "To retrieve a single file using cookies to pass credentials, you can use the `wget` command with the following options:\n",
    "\n",
    "```bash\n",
    "wget --load-cookies ~/.urs_cookies --save-cookies ~/.urs_cookies --auth-no-challenge=on --content-disposition 'https://oceandata.sci.gsfc.nasa.gov/ob/getfile/T2017004001500.L1A_LAC.bz2'"
   ]
  },
  {
   "cell_type": "markdown",
   "id": "1337a45b-f324-419d-9a71-489f19203416",
   "metadata": {},
   "source": [
    "## Accessing ACRI variables"
   ]
  },
  {
   "cell_type": "markdown",
   "id": "a0861dba-6235-4def-90f9-258bcd18ca71",
   "metadata": {},
   "source": [
    "### Accessing Data via Direct FTP on the GlobColour Archive\n",
    "\n",
    "Direct FTP access to the entire GlobColour database of Global and Europe products is available to registered users at `ftp://ftp.hermes.acri.fr`. To obtain access, follow these steps:\n",
    "\n",
    "1. **Fill the Registration Form:**\n",
    "   Visit [GlobColour FTP Registration](ftp://ftp.hermes.acri.fr) and fill out the registration form. Provide the required information, including your email, first name, last name, institution, etc.\n",
    "\n",
    "2. **FTP Server Information:**\n",
    "   Once registered, you can access the FTP server at `ftp://ftp.hermes.acri.fr`. Use the login credentials obtained during the registration process.\n",
    "\n",
    "3. **Database Structure:**\r\n",
    "   The structure of the FTP archive is organized hierarchically:\r\n",
    "\r\n",
    "   - `(globcolour|OSS2015)/zone (GLOB|EURO)`\r\n",
    "     - `/sensor (merged|seawifs|meris|modis|viirsn|olcia|viirsj1|olcib)`\r\n",
    "       - `/binning period (day|8-day|month)`\r\n",
    "         - `/yyyy/mm/dd`\r\n",
    "\r\n",
    "   Each directory contains the following types of files:\r\n",
    "\r\n",
    "   - NetCDF4 Products:\r\n",
    "     - `L3b*.nc`\r\n",
    "     - `L3m*.nc`\r\n",
    "   - \"Quicklook\" Images:\r\n",
    "   ges (L3m*.png).dd\r\n"
   ]
  },
  {
   "cell_type": "markdown",
   "id": "9d654842-68b8-4839-9a8b-d8d661508415",
   "metadata": {},
   "source": [
    "You're welcome! If you have any further questions or need assistance in the future, feel free to drop an email at `mdrony.golder@postgrad.curtin.edu.au`. I'm here to help. Have a great day!"
   ]
  }
 ],
 "metadata": {
  "kernelspec": {
   "display_name": "Python 3 (ipykernel)",
   "language": "python",
   "name": "python3"
  },
  "language_info": {
   "codemirror_mode": {
    "name": "ipython",
    "version": 3
   },
   "file_extension": ".py",
   "mimetype": "text/x-python",
   "name": "python",
   "nbconvert_exporter": "python",
   "pygments_lexer": "ipython3",
   "version": "3.11.7"
  }
 },
 "nbformat": 4,
 "nbformat_minor": 5
}
